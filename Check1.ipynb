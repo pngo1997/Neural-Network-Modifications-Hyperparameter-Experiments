{
 "cells": [
  {
   "cell_type": "code",
   "execution_count": 1,
   "id": "90afc2e4-f00f-43ad-a52d-20ac347ddb18",
   "metadata": {},
   "outputs": [],
   "source": [
    "from ipynb.fs.defs.NN578hw5_Original_Network import Network as network\n",
    "from ipynb.fs.defs.NN578hw5_Original_Network import loadCSV\n",
    "from ipynb.fs.defs.NN578hw5_Original_Network import QuadraticCost as QuadraticCost\n",
    "from ipynb.fs.defs.NN578hw5_Original_Network import Sigmoid as Sigmoid\n",
    "from ipynb.fs.defs.NN578hw5_Original_Network import Softmax as Softmax\n",
    "from ipynb.fs.defs.NN578hw5_Original_Network import Tanh as Tanh\n",
    "from ipynb.fs.defs.NN578hw5_Original_Network import ReLU as ReLU\n",
    "from ipynb.fs.defs.NN578hw5_Original_Network import LeakyReLU as LeakyReLU\n",
    "from ipynb.fs.defs.NN578hw5_Original_Network import CrossEntropyCost as CrossEntropyCost\n",
    "from ipynb.fs.defs.NN578hw5_Original_Network import LogLikelihood as LogLikelihood\n",
    "import numpy as np\n",
    "import pandas as pd"
   ]
  },
  {
   "cell_type": "markdown",
   "id": "8593e771-87a6-41ed-b036-655bb85a953e",
   "metadata": {},
   "source": [
    "### (1) Tiny experiment with One-training-One-test Iris data"
   ]
  },
  {
   "cell_type": "code",
   "execution_count": 2,
   "id": "3c4f941e-7f0b-423b-967f-a5446dd1b806",
   "metadata": {},
   "outputs": [],
   "source": [
    "#Load the data (using the custom function defined in the class Notebook).\n",
    "irisData = loadCSV('iris.csv', 4, 3)"
   ]
  },
  {
   "cell_type": "code",
   "execution_count": 3,
   "id": "394ebd1d-05bd-49fc-96d6-b1e6642aec9b",
   "metadata": {},
   "outputs": [
    {
     "name": "stdout",
     "output_type": "stream",
     "text": [
      "Training 2 epochs complete.\n",
      "\n"
     ]
    },
    {
     "data": {
      "text/plain": [
       "([0.26673128660052947, 0.2107866577006649],\n",
       " [1, 1],\n",
       " [0.3244002758397572, 0.37647122809828165],\n",
       " [0, 0])"
      ]
     },
     "execution_count": 3,
     "metadata": {},
     "output_type": "execute_result"
    }
   ],
   "source": [
    "# Test with one-data Iris data\n",
    "inst1 = (np.array([5.7, 3, 4.2, 1.2]), np.array([0., 1., 0.]))\n",
    "x1 = np.reshape(inst1[0], (4, 1))\n",
    "y1 = np.reshape(inst1[1], (3, 1))\n",
    "sample1 = [(x1, y1)]\n",
    "inst2 = (np.array([4.8, 3.4, 1.6, 0.2]), np.array([1., 0., 0.]))\n",
    "x2 = np.reshape(inst2[0], (4, 1))\n",
    "y2 = np.reshape(inst2[1], (3, 1))\n",
    "sample2 = [(x2, y2)]\n",
    "\n",
    "# Create a network from the saved network\n",
    "net4 = network.loadNetwork(\"iris-423.dat\")\n",
    "net4.set_modelParameters(cost=QuadraticCost,\n",
    "                        actHidden=Sigmoid,\n",
    "                        actOutput=Sigmoid)\n",
    "\n",
    "net4.SGD(sample1, 2, 1, 1.0, testData=sample2)"
   ]
  },
  {
   "cell_type": "markdown",
   "id": "e269cc91-af1a-4d42-a699-f3065d56614b",
   "metadata": {},
   "source": [
    "### Load the iris_train, iris_test datasets"
   ]
  },
  {
   "cell_type": "code",
   "execution_count": 4,
   "id": "7afdac6b-5308-4157-9295-d1a35de6b029",
   "metadata": {},
   "outputs": [],
   "source": [
    "#Load the iris train-test (separate) data files\n",
    "irisTrain = loadCSV('iris-train-2.csv', 4, 3)\n",
    "irisTest = loadCSV('iris-test-2.csv', 4, 3)\n",
    "\n",
    "trainSize = len(irisTrain)\n",
    "testSize = len(irisTest)"
   ]
  },
  {
   "cell_type": "code",
   "execution_count": 5,
   "id": "4c76aaf5-6a6f-45b2-9310-a13d6c7ab0b5",
   "metadata": {},
   "outputs": [],
   "source": [
    "def displayResults(trainCost, trainAccuracy, testCost, testAccuracy):\n",
    "    #Convert a corrent_count to an accuracy percentage\n",
    "    trainAccuracy = [accuracy / trainSize for accuracy in trainAccuracy]\n",
    "    if len(testCost) > 0:\n",
    "        #Convert a corrent_count to an accuracy percentage\n",
    "        testAccuracy = [accuracy / testSize for accuracy in testAccuracy]\n",
    "        res = pd.DataFrame(list(zip(trainCost, trainAccuracy, testCost, testAccuracy)),\n",
    "                         columns = ['trainCost', 'trainAccuracy', 'testCost', 'testAccuracy'])\n",
    "    else:\n",
    "        res = pd.DataFrame(list(zip(train_cost, train_acc)),\n",
    "                         columns = ['trainCost', 'trainAccuracy'])\n",
    "\n",
    "    print(res)"
   ]
  },
  {
   "cell_type": "markdown",
   "id": "563113f4-4af1-4995-a858-3a4057879419",
   "metadata": {},
   "source": [
    "### (0) Sigmoid + Sigmoid + QuadraticCost"
   ]
  },
  {
   "cell_type": "code",
   "execution_count": 6,
   "id": "f3077980-298b-44ee-aedf-2920bb280c6d",
   "metadata": {},
   "outputs": [
    {
     "name": "stdout",
     "output_type": "stream",
     "text": [
      "Training 30 epochs complete.\n",
      "\n",
      "    trainCost  trainAccuracy  testCost  testAccuracy\n",
      "0    0.542861       0.333333  0.543067      0.333333\n",
      "1    0.408869       0.333333  0.409038      0.333333\n",
      "2    0.320381       0.314286  0.320520      0.288889\n",
      "3    0.259983       0.000000  0.260101      0.000000\n",
      "4    0.217112       0.333333  0.217214      0.333333\n",
      "5    0.185528       0.333333  0.185617      0.333333\n",
      "6    0.161488       0.333333  0.161566      0.333333\n",
      "7    0.142676       0.333333  0.142746      0.333333\n",
      "8    0.127608       0.333333  0.127671      0.333333\n",
      "9    0.115297       0.333333  0.115354      0.333333\n",
      "10   0.105069       0.333333  0.105121      0.333333\n",
      "11   0.096449       0.333333  0.096497      0.333333\n",
      "12   0.089093       0.333333  0.089137      0.333333\n",
      "13   0.082746       0.333333  0.082788      0.333333\n",
      "14   0.077220       0.333333  0.077258      0.333333\n",
      "15   0.072366       0.333333  0.072402      0.333333\n",
      "16   0.068071       0.333333  0.068105      0.333333\n",
      "17   0.064245       0.333333  0.064277      0.333333\n",
      "18   0.060817       0.333333  0.060847      0.333333\n",
      "19   0.057729       0.333333  0.057757      0.333333\n",
      "20   0.054932       0.333333  0.054959      0.333333\n",
      "21   0.052388       0.333333  0.052414      0.333333\n",
      "22   0.050065       0.333333  0.050090      0.333333\n",
      "23   0.047936       0.333333  0.047959      0.333333\n",
      "24   0.045977       0.333333  0.045999      0.333333\n",
      "25   0.044169       0.333333  0.044190      0.333333\n",
      "26   0.042495       0.333333  0.042516      0.333333\n",
      "27   0.040942       0.333333  0.040962      0.333333\n",
      "28   0.039496       0.333333  0.039516      0.333333\n",
      "29   0.038148       0.333333  0.038166      0.333333\n"
     ]
    }
   ],
   "source": [
    "#Load/reset the network (from the saved network)\n",
    "net = network.loadNetwork(\"iris-423.dat\")\n",
    "\n",
    "#Set the model hyperparameters (where all models parameters are explicit)\n",
    "net.set_modelParameters(cost=LogLikelihood,\n",
    "                        actHidden=Sigmoid,\n",
    "                        actOutput=Sigmoid)\n",
    "\n",
    "# Train the network (where all compilation parameters are taking DEFAULT values)\n",
    "trainCost, trainAccuracy, testCost, testAccuracy = \\\n",
    "    net.SGD(irisTrain, 30, 8, 0.1, testData=irisTest)\n",
    "displayResults(trainCost, trainAccuracy, testCost, testAccuracy)"
   ]
  },
  {
   "cell_type": "code",
   "execution_count": null,
   "id": "cf893dba-91f8-48f5-848d-e96c9c91ce04",
   "metadata": {},
   "outputs": [],
   "source": []
  }
 ],
 "metadata": {
  "kernelspec": {
   "display_name": "Python 3 (ipykernel)",
   "language": "python",
   "name": "python3"
  },
  "language_info": {
   "codemirror_mode": {
    "name": "ipython",
    "version": 3
   },
   "file_extension": ".py",
   "mimetype": "text/x-python",
   "name": "python",
   "nbconvert_exporter": "python",
   "pygments_lexer": "ipython3",
   "version": "3.9.13"
  }
 },
 "nbformat": 4,
 "nbformat_minor": 5
}
